{
 "cells": [],
 "metadata": {
  "kernelspec": {
   "display_name": "gambling-investment",
   "language": "python",
   "name": "python3"
  },
  "language_info": {
   "name": "python",
   "version": "3.13.2"
  }
 },
 "nbformat": 4,
 "nbformat_minor": 5
}
