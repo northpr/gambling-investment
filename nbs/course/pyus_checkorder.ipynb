{
 "cells": [
  {
   "cell_type": "code",
   "execution_count": 9,
   "id": "58702c67",
   "metadata": {},
   "outputs": [],
   "source": [
    "# Import libraries\n",
    "import ibapi\n",
    "from ibapi.client import EClient\n",
    "from ibapi.wrapper import EWrapper\n",
    "from ibapi.contract import Contract\n",
    "from ibapi.order import Order\n",
    "\n",
    "import pandas as pd\n",
    "import threading\n",
    "import time"
   ]
  },
  {
   "cell_type": "code",
   "execution_count": 11,
   "id": "4b5161f9",
   "metadata": {},
   "outputs": [
    {
     "name": "stdout",
     "output_type": "stream",
     "text": [
      "10.37.2\n"
     ]
    }
   ],
   "source": [
    "print(ibapi.__version__)"
   ]
  },
  {
   "cell_type": "code",
   "execution_count": 15,
   "id": "26ccd0c2",
   "metadata": {},
   "outputs": [
    {
     "name": "stderr",
     "output_type": "stream",
     "text": [
      "ERROR -1 1751098553866 2104 Market data farm connection is OK:usfarm.nj\n",
      "ERROR -1 1751098553866 2104 Market data farm connection is OK:usfuture\n",
      "ERROR -1 1751098553867 2104 Market data farm connection is OK:usopt.nj\n",
      "ERROR -1 1751098553867 2104 Market data farm connection is OK:cashfarm\n",
      "ERROR -1 1751098553867 2104 Market data farm connection is OK:usfarm\n",
      "ERROR -1 1751098553867 2106 HMDS data farm connection is OK:ushmds\n",
      "ERROR -1 1751098553867 2158 Sec-def data farm connection is OK:secdefnj\n"
     ]
    }
   ],
   "source": [
    "class TradingApp(EWrapper, EClient):\n",
    "    def __init__(self):\n",
    "        EClient.__init__(self, self)\n",
    "        self.order_df = pd.DataFrame(columns=[\"PermId\", \"ClientId\", \"OrderId\",\n",
    "                                              \"Account\", \"Symbol\", \"SecType\",\n",
    "                                              \"Exchange\", \"Action\", \"OrderType\",\n",
    "                                              \"TotalQty\", \"CashQty\", \"LmtPrice\",\n",
    "                                              \"AuxPrice\", \"Status\"])\n",
    "        \n",
    "    def openOrder(self, orderId, contract, order, orderState):\n",
    "        super().openOrder(orderId, contract, order, orderState)\n",
    "\n",
    "        df = pd.DataFrame([{\n",
    "            \"PermId\": order.permId,\n",
    "            \"ClientId\": order.clientId,\n",
    "            \"OrderId\": orderId,\n",
    "            \"Account\" : order.account,\n",
    "            \"Symbol\": contract.symbol,\n",
    "            \"SecType\": contract.secType,\n",
    "            \"Exchange\": contract.exchange,\n",
    "            \"Action\": order.action,\n",
    "            \"OrderType\": order.orderType,\n",
    "            \"TotalQty\": order.totalQuantity,\n",
    "            \"CashQty\": order.cashQty,\n",
    "            \"LmtPrice\": order.lmtPrice,\n",
    "            \"AuxPrice\": order.auxPrice,\n",
    "            \"Status\": orderState.status\n",
    "        }])\n",
    "        self.order_df = pd.concat([self.order_df, df])\n",
    "def websocket_con():\n",
    "    app.run()\n",
    "\n",
    "app = TradingApp()\n",
    "app.connect(\"127.0.0.1\", 7497, clientId=73)\n",
    "\n",
    "con_thread = threading.Thread(target=websocket_con, daemon=True)\n",
    "con_thread.start()\n",
    "time.sleep(1)\n",
    "order_df = app.order_df\n",
    "app.reqOpenOrders()\n",
    "app.reqAllOpenOrders\n",
    "app.disconnect()"
   ]
  },
  {
   "cell_type": "code",
   "execution_count": 16,
   "id": "3efd0e38",
   "metadata": {},
   "outputs": [
    {
     "name": "stdout",
     "output_type": "stream",
     "text": [
      "Empty DataFrame\n",
      "Columns: [PermId, ClientId, OrderId, Account, Symbol, SecType, Exchange, Action, OrderType, TotalQty, CashQty, LmtPrice, AuxPrice, Status]\n",
      "Index: []\n"
     ]
    }
   ],
   "source": [
    "print(order_df)"
   ]
  },
  {
   "cell_type": "code",
   "execution_count": null,
   "id": "961840b2",
   "metadata": {},
   "outputs": [],
   "source": []
  }
 ],
 "metadata": {
  "kernelspec": {
   "display_name": "gambling-investment",
   "language": "python",
   "name": "python3"
  },
  "language_info": {
   "codemirror_mode": {
    "name": "ipython",
    "version": 3
   },
   "file_extension": ".py",
   "mimetype": "text/x-python",
   "name": "python",
   "nbconvert_exporter": "python",
   "pygments_lexer": "ipython3",
   "version": "3.13.2"
  }
 },
 "nbformat": 4,
 "nbformat_minor": 5
}
