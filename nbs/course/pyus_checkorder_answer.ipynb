{
 "cells": [
  {
   "cell_type": "code",
   "execution_count": 1,
   "id": "dd8f6594-9274-4aad-b131-d91b4bb1fad8",
   "metadata": {},
   "outputs": [
    {
     "name": "stderr",
     "output_type": "stream",
     "text": [
      "C:\\Users\\Yodyium\\AppData\\Local\\Temp\\ipykernel_21272\\502490177.py:41: FutureWarning: The behavior of DataFrame concatenation with empty or all-NA entries is deprecated. In a future version, this will no longer exclude empty or all-NA columns when determining the result dtypes. To retain the old behavior, exclude the relevant entries before the concat operation.\n",
      "  self.order_df = pd.concat([self.order_df, df])#, ignore_index=True)\n",
      "ERROR -1 0 2104 Market data farm connection is OK:usfarm.nj\n",
      "ERROR -1 0 2104 Market data farm connection is OK:hfarm\n",
      "ERROR -1 0 2104 Market data farm connection is OK:jfarm\n",
      "ERROR -1 0 2104 Market data farm connection is OK:usfuture\n",
      "ERROR -1 0 2104 Market data farm connection is OK:cashfarm\n",
      "ERROR -1 0 2104 Market data farm connection is OK:eufarmnj\n",
      "ERROR -1 0 2104 Market data farm connection is OK:usfarm\n",
      "ERROR -1 0 2106 HMDS data farm connection is OK:euhmds\n",
      "ERROR -1 0 2106 HMDS data farm connection is OK:fundfarm\n",
      "ERROR -1 0 2106 HMDS data farm connection is OK:ushmds\n",
      "ERROR -1 0 2158 Sec-def data farm connection is OK:secdefil\n"
     ]
    }
   ],
   "source": [
    "from ibapi.client import EClient\n",
    "from ibapi.wrapper import EWrapper\n",
    "import threading\n",
    "import time\n",
    "import pandas as pd\n",
    "\n",
    "\n",
    "class TradingApp(EWrapper, EClient):\n",
    "    def __init__(self):\n",
    "        EClient.__init__(self,self)\n",
    "        self.order_df = pd.DataFrame(columns=['PermId', 'ClientId', 'OrderId',\n",
    "                                              'Account', 'Symbol', 'SecType',\n",
    "                                              'Exchange', 'Action', 'OrderType',\n",
    "                                              'TotalQty', 'CashQty', 'LmtPrice',\n",
    "                                              'AuxPrice', 'Status'])\n",
    "        \n",
    "    def openOrder(self, orderId, contract, order, orderState):\n",
    "        super().openOrder(orderId, contract, order, orderState)\n",
    "        #dictionary = {\"PermId\":order.permId, \"ClientId\": order.clientId, \"OrderId\": orderId, \n",
    "        #              \"Account\": order.account, \"Symbol\": contract.symbol, \"SecType\": contract.secType,\n",
    "        #              \"Exchange\": contract.exchange, \"Action\": order.action, \"OrderType\": order.orderType,\n",
    "        #              \"TotalQty\": order.totalQuantity, \"CashQty\": order.cashQty, \n",
    "        #              \"LmtPrice\": order.lmtPrice, \"AuxPrice\": order.auxPrice, \"Status\": orderState.status}\n",
    "\n",
    "        df = pd.DataFrame([{\n",
    "            \"PermId\": order.permId, \n",
    "            \"ClientId\": order.clientId, \n",
    "            \"OrderId\": orderId, \n",
    "            \"Account\": order.account, \n",
    "            \"Symbol\": contract.symbol, \n",
    "            \"SecType\": contract.secType,\n",
    "            \"Exchange\": contract.exchange, \n",
    "            \"Action\": order.action, \n",
    "            \"OrderType\": order.orderType,\n",
    "            \"TotalQty\": order.totalQuantity, \n",
    "            \"CashQty\": order.cashQty, \n",
    "            \"LmtPrice\": order.lmtPrice, \n",
    "            \"AuxPrice\": order.auxPrice, \n",
    "            \"Status\": orderState.status\n",
    "        }])\n",
    "        self.order_df = pd.concat([self.order_df, df])#, ignore_index=True)\n",
    "        \n",
    "def websocket_con():\n",
    "    app.run()\n",
    "    \n",
    "app = TradingApp()      \n",
    "app.connect(\"127.0.0.1\", 7497, clientId=20)\n",
    "\n",
    "# starting a separate daemon thread to execute the websocket connection\n",
    "con_thread = threading.Thread(target=websocket_con, daemon=True)\n",
    "con_thread.start()\n",
    "time.sleep(1) # some latency added to ensure that the connection is established\n",
    "\n",
    "\n",
    "app.reqOpenOrders() # returns all open orders placed by the same CleintId used to establish connection \n",
    "app.reqAllOpenOrders() # returns all open orders irrespective of client ID\n",
    "\n",
    "time.sleep(2)\n",
    "order_df = app.order_df\n",
    "time.sleep(5)\n"
   ]
  },
  {
   "cell_type": "code",
   "execution_count": 2,
   "id": "aeeaef13-a44e-4459-ada5-d13d24a38dbd",
   "metadata": {},
   "outputs": [],
   "source": [
    "app.disconnect()"
   ]
  },
  {
   "cell_type": "code",
   "execution_count": null,
   "id": "3db5abb1-87b9-4da1-8b78-7d8431c3d2b5",
   "metadata": {},
   "outputs": [],
   "source": []
  }
 ],
 "metadata": {
  "kernelspec": {
   "display_name": "Python 3 (ipykernel)",
   "language": "python",
   "name": "python3"
  },
  "language_info": {
   "codemirror_mode": {
    "name": "ipython",
    "version": 3
   },
   "file_extension": ".py",
   "mimetype": "text/x-python",
   "name": "python",
   "nbconvert_exporter": "python",
   "pygments_lexer": "ipython3",
   "version": "3.13.4"
  }
 },
 "nbformat": 4,
 "nbformat_minor": 5
}
