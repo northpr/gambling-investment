{
 "cells": [
  {
   "cell_type": "code",
   "execution_count": 10,
   "id": "28e8d57e",
   "metadata": {},
   "outputs": [],
   "source": [
    "# Import libraries\n",
    "import ibapi\n",
    "from ibapi.client import EClient\n",
    "from ibapi.wrapper import EWrapper\n",
    "from ibapi.contract import Contract\n",
    "from ibapi.order import Order\n",
    "\n",
    "import pandas as pd\n",
    "import threading\n",
    "import time"
   ]
  },
  {
   "cell_type": "code",
   "execution_count": 11,
   "id": "6c201969",
   "metadata": {},
   "outputs": [
    {
     "name": "stdout",
     "output_type": "stream",
     "text": [
      "10.37.2\n"
     ]
    }
   ],
   "source": [
    "print(ibapi.__version__)"
   ]
  },
  {
   "cell_type": "code",
   "execution_count": 9,
   "id": "ab3e3768",
   "metadata": {},
   "outputs": [
    {
     "name": "stderr",
     "output_type": "stream",
     "text": [
      "ERROR -1 1751098292553 326 Unable to connect as the client id is already in use. Retry with a unique client id.\n"
     ]
    },
    {
     "ename": "TypeError",
     "evalue": "'<=' not supported between instances of 'int' and 'NoneType'",
     "output_type": "error",
     "traceback": [
      "\u001b[31m---------------------------------------------------------------------------\u001b[39m",
      "\u001b[31mTypeError\u001b[39m                                 Traceback (most recent call last)",
      "\u001b[36mCell\u001b[39m\u001b[36m \u001b[39m\u001b[32mIn[9]\u001b[39m\u001b[32m, line 46\u001b[39m\n\u001b[32m     43\u001b[39m con_thread.start()\n\u001b[32m     44\u001b[39m time.sleep(\u001b[32m1\u001b[39m)\n\u001b[32m---> \u001b[39m\u001b[32m46\u001b[39m \u001b[43mapp\u001b[49m\u001b[43m.\u001b[49m\u001b[43mplaceOrder\u001b[49m\u001b[43m(\u001b[49m\u001b[43mapp\u001b[49m\u001b[43m.\u001b[49m\u001b[43mnextValidOrderId\u001b[49m\u001b[43m,\u001b[49m\u001b[43musStk\u001b[49m\u001b[43m(\u001b[49m\u001b[33;43m\"\u001b[39;49m\u001b[33;43mMETA\u001b[39;49m\u001b[33;43m\"\u001b[39;49m\u001b[43m)\u001b[49m\u001b[43m,\u001b[49m\u001b[43mlmtOrder\u001b[49m\u001b[43m(\u001b[49m\u001b[33;43m\"\u001b[39;49m\u001b[33;43mBUY\u001b[39;49m\u001b[33;43m\"\u001b[39;49m\u001b[43m,\u001b[49m\u001b[32;43m5\u001b[39;49m\u001b[43m,\u001b[49m\u001b[32;43m720\u001b[39;49m\u001b[43m)\u001b[49m\u001b[43m)\u001b[49m \n\u001b[32m     47\u001b[39m app.reqIds(\u001b[32m3\u001b[39m)\n\u001b[32m     48\u001b[39m time.sleep(\u001b[32m2\u001b[39m)\n",
      "\u001b[36mFile \u001b[39m\u001b[32m~/opt/anaconda3/envs/gambling-investment/lib/python3.13/site-packages/ibapi/client.py:1244\u001b[39m, in \u001b[36mEClient.placeOrder\u001b[39m\u001b[34m(self, orderId, contract, order)\u001b[39m\n\u001b[32m   1232\u001b[39m \u001b[38;5;28;01mdef\u001b[39;00m\u001b[38;5;250m \u001b[39m\u001b[34mplaceOrder\u001b[39m(\u001b[38;5;28mself\u001b[39m, orderId: OrderId, contract: Contract, order: Order):\n\u001b[32m   1233\u001b[39m \u001b[38;5;250m    \u001b[39m\u001b[33;03m\"\"\"Call this function to place an order. The order status will\u001b[39;00m\n\u001b[32m   1234\u001b[39m \u001b[33;03m    be returned by the orderStatus event.\u001b[39;00m\n\u001b[32m   1235\u001b[39m \n\u001b[32m   (...)\u001b[39m\u001b[32m   1241\u001b[39m \u001b[33;03m    order:Order - This structure contains the details of tradedhe order.\u001b[39;00m\n\u001b[32m   1242\u001b[39m \u001b[33;03m        Note: Each client MUST connect with a unique clientId.\"\"\"\u001b[39;00m\n\u001b[32m-> \u001b[39m\u001b[32m1244\u001b[39m     \u001b[38;5;28;01mif\u001b[39;00m (\u001b[38;5;28;43mself\u001b[39;49m\u001b[43m.\u001b[49m\u001b[43museProtoBuf\u001b[49m\u001b[43m(\u001b[49m\u001b[43mOUT\u001b[49m\u001b[43m.\u001b[49m\u001b[43mPLACE_ORDER\u001b[49m\u001b[43m)\u001b[49m):\n\u001b[32m   1245\u001b[39m         placeOrderRequestProto = createPlaceOrderRequestProto(orderId, contract, order)\n\u001b[32m   1246\u001b[39m         \u001b[38;5;28mself\u001b[39m.placeOrderProtoBuf(placeOrderRequestProto)\n",
      "\u001b[36mFile \u001b[39m\u001b[32m~/opt/anaconda3/envs/gambling-investment/lib/python3.13/site-packages/ibapi/client.py:244\u001b[39m, in \u001b[36mEClient.useProtoBuf\u001b[39m\u001b[34m(self, msgId)\u001b[39m\n\u001b[32m    242\u001b[39m \u001b[38;5;28;01mdef\u001b[39;00m\u001b[38;5;250m \u001b[39m\u001b[34museProtoBuf\u001b[39m(\u001b[38;5;28mself\u001b[39m, msgId: \u001b[38;5;28mint\u001b[39m) -> \u001b[38;5;28mbool\u001b[39m:\n\u001b[32m    243\u001b[39m     unifiedVersion = PROTOBUF_MSG_IDS.get(msgId)\n\u001b[32m--> \u001b[39m\u001b[32m244\u001b[39m     \u001b[38;5;28;01mreturn\u001b[39;00m unifiedVersion \u001b[38;5;129;01mis\u001b[39;00m \u001b[38;5;129;01mnot\u001b[39;00m \u001b[38;5;28;01mNone\u001b[39;00m \u001b[38;5;129;01mand\u001b[39;00m \u001b[43munifiedVersion\u001b[49m\u001b[43m \u001b[49m\u001b[43m<\u001b[49m\u001b[43m=\u001b[49m\u001b[43m \u001b[49m\u001b[38;5;28;43mself\u001b[39;49m\u001b[43m.\u001b[49m\u001b[43mserverVersion\u001b[49m\u001b[43m(\u001b[49m\u001b[43m)\u001b[49m\n",
      "\u001b[31mTypeError\u001b[39m: '<=' not supported between instances of 'int' and 'NoneType'"
     ]
    }
   ],
   "source": [
    "class TradeApp(EWrapper, EClient):\n",
    "    def __init__(self):\n",
    "        EClient.__init__(self,self)\n",
    "        self.nextValidOrderId = None\n",
    "\n",
    "    def nextValidId(self, orderId):\n",
    "        super().nextValidId(orderId)\n",
    "        self.nextValidOrderId = orderId\n",
    "        print(\"NextValidId:\", orderId)\n",
    "\n",
    "def websocket_con():\n",
    "    app.run()\n",
    "\n",
    "\n",
    "def usStk(symbol,sec_type=\"STK\",currency=\"USD\",exchange=\"ISLAND\"):\n",
    "    contract = Contract()\n",
    "    contract.symbol = symbol\n",
    "    contract.secType = sec_type\n",
    "    contract.currency = currency\n",
    "    contract.exchange = exchange\n",
    "    return contract \n",
    "\n",
    "def mktOrder(direction,quantity):\n",
    "    order = Order()\n",
    "    order.action = direction\n",
    "    order.orderType = \"MKT\"\n",
    "    order.totalQuantity = quantity\n",
    "    return order\n",
    "\n",
    "def lmtOrder(direction, quantity, lmt_price):\n",
    "    order = Order()\n",
    "    order.action = direction\n",
    "    order.orderType = \"LMT\"\n",
    "    order.totalQuantity = quantity\n",
    "    order.lmtPrice = lmt_price\n",
    "    order.eTradeOnly = None\n",
    "    return order\n",
    "\n",
    "app = TradeApp()\n",
    "app.connect(\"127.0.0.1\", 7497, clientId=93)\n",
    "\n",
    "con_thread = threading.Thread(target=websocket_con, daemon=True)\n",
    "con_thread.start()\n",
    "time.sleep(1)\n",
    "\n",
    "app.placeOrder(app.nextValidOrderId,usStk(\"META\"),lmtOrder(\"BUY\",5,720)) \n",
    "app.reqIds(3)\n",
    "time.sleep(2)\n",
    "app.placeOrder(app.nextValidOrderId,usStk(\"MSFT\"), lmtOrder(\"BUY\",10,470))\n",
    "app.reqIds(3)\n",
    "time.sleep(2)\n",
    "\n",
    "app.disconnect()"
   ]
  },
  {
   "cell_type": "code",
   "execution_count": 12,
   "id": "5802d245",
   "metadata": {},
   "outputs": [
    {
     "name": "stderr",
     "output_type": "stream",
     "text": [
      "ERROR -1 1751098330645 2104 Market data farm connection is OK:usfarm.nj\n",
      "ERROR -1 1751098330647 2104 Market data farm connection is OK:usfuture\n",
      "ERROR -1 1751098330647 2104 Market data farm connection is OK:usopt.nj\n",
      "ERROR -1 1751098330647 2104 Market data farm connection is OK:cashfarm\n",
      "ERROR -1 1751098330648 2104 Market data farm connection is OK:usfarm\n",
      "ERROR -1 1751098330648 2106 HMDS data farm connection is OK:ushmds\n",
      "ERROR -1 1751098330648 2158 Sec-def data farm connection is OK:secdefnj\n"
     ]
    },
    {
     "name": "stdout",
     "output_type": "stream",
     "text": [
      "NextValidId: 7\n",
      "NextValidId: 8\n"
     ]
    },
    {
     "name": "stderr",
     "output_type": "stream",
     "text": [
      "ERROR 7 1751098332903 10311 This order will be directly routed to ISLAND. Direct routed orders may result in higher trade fees.\n",
      "Restriction is specified in Precautionary Settings of Global Configuration/API.\n"
     ]
    },
    {
     "name": "stdout",
     "output_type": "stream",
     "text": [
      "NextValidId: 9\n"
     ]
    },
    {
     "name": "stderr",
     "output_type": "stream",
     "text": [
      "ERROR 8 1751098334257 10311 This order will be directly routed to ISLAND. Direct routed orders may result in higher trade fees.\n",
      "Restriction is specified in Precautionary Settings of Global Configuration/API.\n"
     ]
    }
   ],
   "source": [
    "import threading\n",
    "import time\n",
    "from ibapi.client import EClient\n",
    "from ibapi.wrapper import EWrapper\n",
    "from ibapi.contract import Contract\n",
    "from ibapi.order import Order\n",
    "\n",
    "class TradeApp(EWrapper, EClient):\n",
    "    def __init__(self):\n",
    "        EClient.__init__(self,self)\n",
    "        self.nextValidOrderId = None\n",
    "\n",
    "    def nextValidId(self, orderId):\n",
    "        super().nextValidId(orderId)\n",
    "        self.nextValidOrderId = orderId\n",
    "        print(\"NextValidId:\", orderId)\n",
    "\n",
    "def websocket_con():\n",
    "    app.run()\n",
    "\n",
    "\n",
    "def usStk(symbol,sec_type=\"STK\",currency=\"USD\",exchange=\"ISLAND\"):\n",
    "    contract = Contract()\n",
    "    contract.symbol = symbol\n",
    "    contract.secType = sec_type\n",
    "    contract.currency = currency\n",
    "    contract.exchange = exchange\n",
    "    return contract \n",
    "\n",
    "def mktOrder(direction,quantity):\n",
    "    order = Order()\n",
    "    order.action = direction\n",
    "    order.orderType = \"MKT\"\n",
    "    order.totalQuantity = quantity\n",
    "    return order\n",
    "\n",
    "def lmtOrder(direction, quantity, lmt_price):\n",
    "    order = Order()\n",
    "    order.action = direction\n",
    "    order.orderType = \"LMT\"\n",
    "    order.totalQuantity = quantity\n",
    "    order.lmtPrice = lmt_price\n",
    "    \n",
    "    return order\n",
    "\n",
    "app = TradeApp()\n",
    "app.connect(\"127.0.0.1\", 7497, clientId=98)\n",
    "\n",
    "con_thread = threading.Thread(target=websocket_con, daemon=True)\n",
    "con_thread.start()\n",
    "time.sleep(1)\n",
    "\n",
    "# Note: The race condition and duplicate order ID issues still exist here.\n",
    "# The following lines will likely fail because nextValidOrderId is still None after 1 second.\n",
    "try:\n",
    "    app.placeOrder(app.nextValidOrderId,usStk(\"META\"),lmtOrder(\"BUY\",5,720)) \n",
    "    app.reqIds(3)\n",
    "    time.sleep(2)\n",
    "    app.placeOrder(app.nextValidOrderId,usStk(\"MSFT\"), lmtOrder(\"BUY\",10,470))\n",
    "    app.reqIds(3)\n",
    "    time.sleep(2)\n",
    "except Exception as e:\n",
    "    print(f\"An error occurred: {e}\")\n",
    "    print(\"This is likely due to the race condition where the script tries to place an order before the connection is fully established and nextValidId is received.\")\n",
    "\n",
    "app.disconnect()\n"
   ]
  },
  {
   "cell_type": "code",
   "execution_count": null,
   "id": "dc29a3f8",
   "metadata": {},
   "outputs": [],
   "source": []
  }
 ],
 "metadata": {
  "kernelspec": {
   "display_name": "gambling-investment",
   "language": "python",
   "name": "python3"
  },
  "language_info": {
   "codemirror_mode": {
    "name": "ipython",
    "version": 3
   },
   "file_extension": ".py",
   "mimetype": "text/x-python",
   "name": "python",
   "nbconvert_exporter": "python",
   "pygments_lexer": "ipython3",
   "version": "3.13.2"
  }
 },
 "nbformat": 4,
 "nbformat_minor": 5
}
