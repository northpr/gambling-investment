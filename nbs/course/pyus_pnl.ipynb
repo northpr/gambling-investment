{
 "cells": [
  {
   "cell_type": "code",
   "execution_count": 1,
   "id": "42887efa-a551-4dd3-bb1c-e7f349a79169",
   "metadata": {},
   "outputs": [
    {
     "name": "stderr",
     "output_type": "stream",
     "text": [
      "ERROR -1 0 2104 Market data farm connection is OK:usfarm.nj\n",
      "ERROR -1 0 2104 Market data farm connection is OK:hfarm\n",
      "ERROR -1 0 2104 Market data farm connection is OK:jfarm\n",
      "ERROR -1 0 2104 Market data farm connection is OK:usfuture\n",
      "ERROR -1 0 2104 Market data farm connection is OK:cashfarm\n",
      "ERROR -1 0 2104 Market data farm connection is OK:eufarmnj\n",
      "ERROR -1 0 2104 Market data farm connection is OK:usfarm\n",
      "ERROR -1 0 2106 HMDS data farm connection is OK:euhmds\n",
      "ERROR -1 0 2106 HMDS data farm connection is OK:fundfarm\n",
      "ERROR -1 0 2106 HMDS data farm connection is OK:ushmds\n",
      "ERROR -1 0 2158 Sec-def data farm connection is OK:secdefil\n"
     ]
    },
    {
     "name": "stdout",
     "output_type": "stream",
     "text": [
      "{'ReqId': 5, 'DailyPnL': 0.0, 'UnrealizedPnL': 0.0, 'RealizedPnL': 0.0}\n"
     ]
    }
   ],
   "source": [
    "from ibapi.client import EClient\n",
    "from ibapi.wrapper import EWrapper\n",
    "import threading\n",
    "import time\n",
    "\n",
    "\n",
    "class TradingApp(EWrapper, EClient):\n",
    "    def __init__(self):\n",
    "        EClient.__init__(self,self)\n",
    "  \n",
    "    def pnl(self, reqId, dailyPnL, unrealizedPnL, realizedPnL):\n",
    "        super().pnl(reqId, dailyPnL, unrealizedPnL, realizedPnL)\n",
    "        dictionary = {\"ReqId\":reqId, \"DailyPnL\": dailyPnL, \"UnrealizedPnL\": unrealizedPnL, \"RealizedPnL\": realizedPnL}\n",
    "        print(dictionary)\n",
    "\n",
    "    \n",
    "def websocket_con():\n",
    "    app.run()\n",
    "    \n",
    "app = TradingApp()      \n",
    "app.connect(\"127.0.0.1\", 7497, clientId=1)\n",
    "\n",
    "# starting a separate daemon thread to execute the websocket connection\n",
    "con_thread = threading.Thread(target=websocket_con, daemon=True)\n",
    "con_thread.start()\n",
    "time.sleep(1) # some latency added to ensure that the connection is established\n",
    "\n",
    "\n",
    "app.reqPnL(5, \"DUA085512\", \"\")"
   ]
  },
  {
   "cell_type": "code",
   "execution_count": 2,
   "id": "750db3b6-e318-4fd0-b806-74f1f7768648",
   "metadata": {},
   "outputs": [],
   "source": [
    "app.disconnect()"
   ]
  },
  {
   "cell_type": "code",
   "execution_count": null,
   "id": "8dd98765-aaf4-4233-9ec3-7f5998a3710d",
   "metadata": {},
   "outputs": [],
   "source": []
  }
 ],
 "metadata": {
  "kernelspec": {
   "display_name": "Python 3 (ipykernel)",
   "language": "python",
   "name": "python3"
  },
  "language_info": {
   "codemirror_mode": {
    "name": "ipython",
    "version": 3
   },
   "file_extension": ".py",
   "mimetype": "text/x-python",
   "name": "python",
   "nbconvert_exporter": "python",
   "pygments_lexer": "ipython3",
   "version": "3.13.4"
  }
 },
 "nbformat": 4,
 "nbformat_minor": 5
}
