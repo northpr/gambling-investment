{
 "cells": [
  {
   "cell_type": "code",
   "execution_count": 1,
   "id": "0d6c7875-31d9-45d0-9722-db58527afa5f",
   "metadata": {},
   "outputs": [
    {
     "name": "stderr",
     "output_type": "stream",
     "text": [
      "ERROR -1 0 2104 Market data farm connection is OK:usfarm.nj\n",
      "ERROR -1 0 2104 Market data farm connection is OK:hfarm\n",
      "ERROR -1 0 2104 Market data farm connection is OK:jfarm\n",
      "ERROR -1 0 2104 Market data farm connection is OK:usfuture\n",
      "ERROR -1 0 2104 Market data farm connection is OK:cashfarm\n",
      "ERROR -1 0 2104 Market data farm connection is OK:eufarmnj\n",
      "ERROR -1 0 2104 Market data farm connection is OK:usfarm\n",
      "ERROR -1 0 2106 HMDS data farm connection is OK:euhmds\n",
      "ERROR -1 0 2106 HMDS data farm connection is OK:fundfarm\n",
      "ERROR -1 0 2106 HMDS data farm connection is OK:ushmds\n",
      "ERROR -1 0 2158 Sec-def data farm connection is OK:secdefil\n"
     ]
    },
    {
     "name": "stdout",
     "output_type": "stream",
     "text": [
      "NextValidId: 20\n"
     ]
    },
    {
     "name": "stderr",
     "output_type": "stream",
     "text": [
      "ERROR 20 0 399 Order Message: BUY 4 QCOM NASDAQ.NMS Warning: Your order will not be placed at the exchange until 2025-06-25 09:30:00 US/Eastern.\n",
      "ERROR 20 0 202 Order Canceled - reason:\n",
      "ERROR -1 0 1100 Connectivity between IBKR and Trader Workstation has been lost.\n",
      "ERROR -1 0 2103 Market data farm connection is broken:eufarmnj\n",
      "ERROR -1 0 2103 Market data farm connection is broken:usfuture\n",
      "ERROR -1 0 2157 Sec-def data farm connection is broken:secdefil\n",
      "ERROR -1 0 2103 Market data farm connection is broken:jfarm\n",
      "ERROR -1 0 2103 Market data farm connection is broken:hfarm\n",
      "ERROR -1 0 2105 HMDS data farm connection is broken:fundfarm\n",
      "ERROR -1 0 2103 Market data farm connection is broken:usfarm.nj\n",
      "ERROR -1 0 2105 HMDS data farm connection is broken:ushmds\n",
      "ERROR -1 0 2103 Market data farm connection is broken:usfarm\n",
      "ERROR -1 0 2105 HMDS data farm connection is broken:euhmds\n",
      "ERROR -1 0 2104 Market data farm connection is OK:jfarm\n",
      "ERROR -1 0 2104 Market data farm connection is OK:hfarm\n",
      "ERROR -1 0 2106 HMDS data farm connection is OK:ushmds\n",
      "ERROR -1 0 2158 Sec-def data farm connection is OK:secdefil\n",
      "ERROR -1 0 2106 HMDS data farm connection is OK:euhmds\n",
      "ERROR -1 0 2104 Market data farm connection is OK:usfarm\n",
      "ERROR -1 0 2104 Market data farm connection is OK:cashfarm\n",
      "ERROR -1 0 2104 Market data farm connection is OK:usfuture\n",
      "ERROR -1 0 2106 HMDS data farm connection is OK:fundfarm\n",
      "ERROR -1 0 2104 Market data farm connection is OK:usfarm.nj\n",
      "ERROR -1 0 2104 Market data farm connection is OK:eufarmnj\n",
      "ERROR -1 0 1102 Connectivity between IBKR and Trader Workstation has been restored - data maintained. All data farms are connected: usfarm.nj; hfarm; jfarm; usfuture; cashfarm; eufarmnj; usfarm; euhmds; fundfarm; ushmds; secdefil.\n"
     ]
    }
   ],
   "source": [
    "from ibapi.client import EClient\n",
    "from ibapi.wrapper import EWrapper\n",
    "from ibapi.contract import Contract\n",
    "from ibapi.order import Order\n",
    "import threading\n",
    "import time\n",
    "import pandas as pd\n",
    "\n",
    "\n",
    "class TradingApp(EWrapper, EClient):\n",
    "    def __init__(self):\n",
    "        EClient.__init__(self,self)\n",
    "        self.pos_df = pd.DataFrame(columns=['Account', 'Symbol', 'SecType',\n",
    "                                            'Currency', 'Position', 'Avg cost'])\n",
    "    def nextValidId(self, orderId):\n",
    "        super().nextValidId(orderId)\n",
    "        self.nextValidOrderId = orderId\n",
    "        print(\"NextValidId:\", orderId) \n",
    "        \n",
    "    def position(self, account, contract, position, avgCost):\n",
    "        super().position(account, contract, position, avgCost)\n",
    "        dictionary = {\"Account\":account, \"Symbol\": contract.symbol, \"SecType\": contract.secType,\n",
    "                      \"Currency\": contract.currency, \"Position\": position, \"Avg cost\": avgCost}\n",
    "        if self.pos_df[\"Symbol\"].str.contains(contract.symbol).any():\n",
    "            self.pos_df.loc[self.pos_df[\"Symbol\"]==contract.symbol,\"Position\"] = position\n",
    "            self.pos_df.loc[self.pos_df[\"Symbol\"]==contract.symbol,\"Avg cost\"] = avgCost\n",
    "        else:\n",
    "            self.pos_df = pd.concat((self.pos_df, pd.DataFrame([dictionary])),ignore_index=True)\n",
    "            #self.pos_df = self.pos_df.append(dictionary, ignore_index=True)\n",
    "        \n",
    "\n",
    "def websocket_con():\n",
    "    app.run()\n",
    "    \n",
    "app = TradingApp()      \n",
    "app.connect(\"127.0.0.1\", 7497, clientId=1)\n",
    "\n",
    "# starting a separate daemon thread to execute the websocket connection\n",
    "con_thread = threading.Thread(target=websocket_con, daemon=True)\n",
    "con_thread.start()\n",
    "time.sleep(1) # some latency added to ensure that the connection is established\n",
    "\n",
    "def usStk(symbol, sectype =\"STK\", currency = \"USD\", exchange=\"NASDAQ\"):\n",
    "    contract = Contract()\n",
    "    contract.symbol = symbol\n",
    "    contract.secType = sectype\n",
    "    contract.currency = currency\n",
    "    contract.exchange = exchange\n",
    "    return contract\n",
    "\n",
    "#creating object of the Contract class - will be used as a parameter for other function calls\n",
    "def mktOrder(direction,quantity):\n",
    "    order = Order()\n",
    "    order.action = direction\n",
    "    order.orderType = \"MKT\"\n",
    "    order.totalQuantity = quantity\n",
    "    order.eTradeOnly = \"\"\n",
    "    order.firmQuoteOnly = \"\"\n",
    "    return order\n",
    "\n",
    "app.reqPositions()\n",
    "time.sleep(1)\n",
    "pos_df = app.pos_df\n",
    "\n",
    "app.placeOrder(app.nextValidOrderId,usStk(\"QCOM\"),mktOrder(\"BUY\",4))\n",
    "\n",
    "app.reqPositions()\n",
    "time.sleep(1)\n",
    "pos_df = app.pos_df"
   ]
  },
  {
   "cell_type": "code",
   "execution_count": 2,
   "id": "bc7a20c4-e95f-4439-bd8c-8decbd8cf1b1",
   "metadata": {},
   "outputs": [],
   "source": [
    "app.disconnect()"
   ]
  },
  {
   "cell_type": "code",
   "execution_count": null,
   "id": "74d164af-e033-4028-a3f5-2bb9102fef97",
   "metadata": {},
   "outputs": [],
   "source": []
  }
 ],
 "metadata": {
  "kernelspec": {
   "display_name": "Python 3 (ipykernel)",
   "language": "python",
   "name": "python3"
  },
  "language_info": {
   "codemirror_mode": {
    "name": "ipython",
    "version": 3
   },
   "file_extension": ".py",
   "mimetype": "text/x-python",
   "name": "python",
   "nbconvert_exporter": "python",
   "pygments_lexer": "ipython3",
   "version": "3.13.4"
  }
 },
 "nbformat": 4,
 "nbformat_minor": 5
}
