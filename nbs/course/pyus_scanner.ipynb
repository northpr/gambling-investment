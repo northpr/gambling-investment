{
 "cells": [
  {
   "cell_type": "code",
   "execution_count": 10,
   "id": "a2200bb7-422f-418d-88d8-4497784dc819",
   "metadata": {},
   "outputs": [
    {
     "name": "stderr",
     "output_type": "stream",
     "text": [
      "ERROR -1 1751100771665 2104 Market data farm connection is OK:usfarm.nj\n",
      "ERROR -1 1751100771665 2104 Market data farm connection is OK:usfuture\n",
      "ERROR -1 1751100771665 2104 Market data farm connection is OK:usopt.nj\n",
      "ERROR -1 1751100771665 2104 Market data farm connection is OK:cashfarm\n",
      "ERROR -1 1751100771665 2104 Market data farm connection is OK:usfarm\n",
      "ERROR -1 1751100771665 2106 HMDS data farm connection is OK:ushmds\n",
      "ERROR -1 1751100771665 2158 Sec-def data farm connection is OK:secdefnj\n"
     ]
    },
    {
     "name": "stdout",
     "output_type": "stream",
     "text": [
      "ScannerData. ReqId: 20 Rank: 0, Symbol: CRCL, SecType: STK, Currency: USD, Distance: , Benchmark: , Projection: , Legs String: \n",
      "ScannerData. ReqId: 20 Rank: 1, Symbol: GWH, SecType: STK, Currency: USD, Distance: , Benchmark: , Projection: , Legs String: \n",
      "ScannerData. ReqId: 20 Rank: 2, Symbol: VOYG, SecType: STK, Currency: USD, Distance: , Benchmark: , Projection: , Legs String: \n",
      "ScannerData. ReqId: 20 Rank: 3, Symbol: SRFM, SecType: STK, Currency: USD, Distance: , Benchmark: , Projection: , Legs String: \n",
      "ScannerData. ReqId: 20 Rank: 4, Symbol: WOLF, SecType: STK, Currency: USD, Distance: , Benchmark: , Projection: , Legs String: \n",
      "ScannerData. ReqId: 20 Rank: 5, Symbol: CCM, SecType: STK, Currency: USD, Distance: , Benchmark: , Projection: , Legs String: \n",
      "ScannerData. ReqId: 20 Rank: 6, Symbol: CELG RT, SecType: STK, Currency: USD, Distance: , Benchmark: , Projection: , Legs String: \n",
      "ScannerData. ReqId: 20 Rank: 7, Symbol: QS, SecType: STK, Currency: USD, Distance: , Benchmark: , Projection: , Legs String: \n",
      "ScannerData. ReqId: 20 Rank: 8, Symbol: SST, SecType: STK, Currency: USD, Distance: , Benchmark: , Projection: , Legs String: \n",
      "ScannerData. ReqId: 20 Rank: 9, Symbol: XIN, SecType: STK, Currency: USD, Distance: , Benchmark: , Projection: , Legs String: \n"
     ]
    }
   ],
   "source": [
    "from ibapi.client import EClient\n",
    "from ibapi.wrapper import EWrapper\n",
    "from ibapi.scanner import ScannerSubscription, ScanData\n",
    "import time\n",
    "import threading\n",
    "import os\n",
    "\n",
    "class TradeApp(EWrapper, EClient):\n",
    "    def __init__(self):\n",
    "        EClient.__init__(self, self) \n",
    "    \n",
    "    def scannerData(self, reqId, rank, contractDetails, distance, benchmark, projection, legsStr):\n",
    "        super().scannerData(reqId, rank, contractDetails, distance, benchmark, projection, legsStr)\n",
    "        print(\"ScannerData. ReqId:\", reqId, ScanData(contractDetails.contract, rank, distance, benchmark, projection, legsStr))\n",
    "\n",
    "def usStkScan(asset_type=\"STK\",asset_loc=\"STK.NYSE\",scan_code=\"TOP_OPEN_PERC_LOSE\"):\n",
    "    scan_obj = ScannerSubscription()\n",
    "    scan_obj.numberOfRows = 10\n",
    "    scan_obj.instrument = asset_type\n",
    "    scan_obj.locationCode = asset_loc\n",
    "    scan_obj.scanCode = scan_code\n",
    "    return scan_obj\n",
    "\n",
    "def websocket_con():\n",
    "    app.run()\n",
    "    \n",
    "app = TradeApp()\n",
    "app.connect(host='127.0.0.1', port=7497, clientId=56) #port 4002 for ib gateway paper trading/7497 for TWS paper trading\n",
    "\n",
    "con_thread = threading.Thread(target=websocket_con, daemon=True)\n",
    "con_thread.start()\n",
    "time.sleep(1) # some latency added to ensure that the connection is established\n",
    "\n",
    "app.reqScannerSubscription(20,usStkScan(),[],[])\n",
    "time.sleep(30)\n",
    "\n",
    "app.cancelScannerSubscription(20)\n",
    "\n",
    "app.disconnect()"
   ]
  },
  {
   "cell_type": "code",
   "execution_count": null,
   "id": "f99d900d-9f24-4fb0-bfbd-79e35ce27ee2",
   "metadata": {},
   "outputs": [],
   "source": []
  }
 ],
 "metadata": {
  "kernelspec": {
   "display_name": "gambling-investment",
   "language": "python",
   "name": "python3"
  },
  "language_info": {
   "codemirror_mode": {
    "name": "ipython",
    "version": 3
   },
   "file_extension": ".py",
   "mimetype": "text/x-python",
   "name": "python",
   "nbconvert_exporter": "python",
   "pygments_lexer": "ipython3",
   "version": "3.13.2"
  }
 },
 "nbformat": 4,
 "nbformat_minor": 5
}
