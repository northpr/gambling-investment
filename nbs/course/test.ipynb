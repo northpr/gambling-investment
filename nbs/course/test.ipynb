{
 "cells": [
  {
   "cell_type": "code",
   "execution_count": 18,
   "id": "9e09501c",
   "metadata": {},
   "outputs": [],
   "source": [
    "from ibapi.client import EClient\n",
    "from ibapi.wrapper import EWrapper\n",
    "from ibapi.contract import Contract\n",
    "import threading\n",
    "import time"
   ]
  },
  {
   "cell_type": "code",
   "execution_count": null,
   "id": "38ac159a",
   "metadata": {},
   "outputs": [
    {
     "name": "stderr",
     "output_type": "stream",
     "text": [
      "ERROR -1 2104 Market data farm connection is OK:hfarm\n",
      "ERROR -1 2104 Market data farm connection is OK:usfarm.nj\n",
      "ERROR -1 2104 Market data farm connection is OK:jfarm\n",
      "ERROR -1 2104 Market data farm connection is OK:eufarm\n",
      "ERROR -1 2104 Market data farm connection is OK:afarm\n",
      "ERROR -1 2104 Market data farm connection is OK:usfarm\n",
      "ERROR -1 2106 HMDS data farm connection is OK:apachmds\n",
      "ERROR -1 2106 HMDS data farm connection is OK:euhmds\n",
      "ERROR -1 2106 HMDS data farm connection is OK:fundfarm\n",
      "ERROR -1 2106 HMDS data farm connection is OK:ushmds\n",
      "ERROR -1 2158 Sec-def data farm connection is OK:secdefnj\n"
     ]
    },
    {
     "name": "stdout",
     "output_type": "stream",
     "text": [
      "Data thype for req 1: Delayed\n",
      "TickPrice. ReqId:1, type:66, price:-1.0\n",
      "TickPrice. ReqId:1, type:67, price:-1.0\n",
      "TickPrice. ReqId:1, type:68, price:122.0\n",
      "TickPrice. ReqId:1, type:72, price:122.94\n",
      "TickPrice. ReqId:1, type:73, price:121.48\n",
      "TickPrice. ReqId:1, type:75, price:121.46\n",
      "TickPrice. ReqId:1, type:76, price:0.0\n"
     ]
    }
   ],
   "source": [
    "class IBApp(EWrapper, EClient):\n",
    "    def __init__(self):\n",
    "        EClient.__init__(self, self)\n",
    "    def nextValidId(self, order_id):\n",
    "        self.reqMarketDataType(3) # use delayed data\n",
    "        c = Contract()\n",
    "        c.symbol, c.secType, c.exchange, c.currency = \"DIS\", \"STK\", \"SMART\", \"USD\"\n",
    "        self.reqMktData(1, c, \"\", False, False, [])\n",
    "\n",
    "    def marketDataType(self, reqId, marketDataType):\n",
    "        types = {1:\"Live\", 2:\"Frozen\", 3:\"Delayed\", 4:\"Delayed-frozen\"}\n",
    "        print(f\"Data thype for req {reqId}: {types.get(marketDataType, marketDataType)}\")\n",
    "\n",
    "    def tickPrice(self,reqId,tickType, price, attrib):\n",
    "        print(f\"TickPrice. ReqId:{reqId}, type:{tickType}, price:{price}\")\n",
    "\n",
    "def run_loop(app):\n",
    "    app.run()\n",
    "\n",
    "app = IBApp()\n",
    "app.connect(\"127.0.0.1\", 7497, clientId=9)\n",
    "\n",
    "thread = threading.Thread(target=run_loop, args=(app,), daemon=True)\n",
    "thread.start()\n",
    "time.sleep(1)\n",
    "\n",
    "app.disconnect()\n"
   ]
  },
  {
   "cell_type": "code",
   "execution_count": null,
   "id": "297aa613",
   "metadata": {},
   "outputs": [],
   "source": []
  },
  {
   "cell_type": "code",
   "execution_count": null,
   "id": "4c2fe1cd",
   "metadata": {},
   "outputs": [],
   "source": []
  }
 ],
 "metadata": {
  "kernelspec": {
   "display_name": "gambling-investment",
   "language": "python",
   "name": "python3"
  },
  "language_info": {
   "codemirror_mode": {
    "name": "ipython",
    "version": 3
   },
   "file_extension": ".py",
   "mimetype": "text/x-python",
   "name": "python",
   "nbconvert_exporter": "python",
   "pygments_lexer": "ipython3",
   "version": "3.13.2"
  }
 },
 "nbformat": 4,
 "nbformat_minor": 5
}
