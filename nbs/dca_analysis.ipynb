{
 "cells": [
  {
   "cell_type": "code",
   "execution_count": 1,
   "id": "c6a7d259",
   "metadata": {},
   "outputs": [],
   "source": [
    "import pandas as pd\n",
    "import yfinance as yf\n",
    "from datetime import datetime, timedelta"
   ]
  },
  {
   "cell_type": "code",
   "execution_count": 6,
   "id": "2635d577",
   "metadata": {},
   "outputs": [],
   "source": [
    "def fetch_stock_data(ticker_symbol, start_date_str, end_date_str):\n",
    "    try:\n",
    "        data = yf.download(ticker_symbol, start=start_date_str, end=end_date_str)\n",
    "\n",
    "        if data.empty:\n",
    "            print(f\"No data found for {ticker_symbol} between {start_date_str} and {end_date_str}\")\n",
    "            return None\n",
    "        \n",
    "        print(f\"Successfully fetched data for {ticker_symbol}  from {start_date_str} to {end_date_str}\")\n",
    "        return data\n",
    "    except Exception as e:\n",
    "        print(f\"An error occured while fetching data for {ticker_symbol} : {e}\")\n",
    "        return None"
   ]
  },
  {
   "cell_type": "code",
   "execution_count": 7,
   "id": "a81d280b",
   "metadata": {},
   "outputs": [
    {
     "name": "stderr",
     "output_type": "stream",
     "text": [
      "[*********************100%***********************]  1 of 1 completed"
     ]
    },
    {
     "name": "stdout",
     "output_type": "stream",
     "text": [
      "\n",
      "Fetching data for SPY from 2020-06-02 to 2025-06-01...\n",
      "Successfully fetched data for SPY  from 2020-06-02 to 2025-06-01\n"
     ]
    },
    {
     "name": "stderr",
     "output_type": "stream",
     "text": [
      "\n"
     ]
    }
   ],
   "source": [
    "ticker = \"SPY\"\n",
    "\n",
    "end_date = datetime.now()\n",
    "start_date = end_date - timedelta(days=5*365)\n",
    "\n",
    "start_date_str = start_date.strftime(\"%Y-%m-%d\")\n",
    "end_date_str = end_date.strftime(\"%Y-%m-%d\")\n",
    "\n",
    "print(f\"\\nFetching data for {ticker} from {start_date_str} to {end_date_str}...\")\n",
    "spy_data = fetch_stock_data(ticker, start_date_str, end_date_str)"
   ]
  },
  {
   "cell_type": "code",
   "execution_count": 8,
   "id": "5596ded8",
   "metadata": {},
   "outputs": [
    {
     "data": {
      "text/html": [
       "<div>\n",
       "<style scoped>\n",
       "    .dataframe tbody tr th:only-of-type {\n",
       "        vertical-align: middle;\n",
       "    }\n",
       "\n",
       "    .dataframe tbody tr th {\n",
       "        vertical-align: top;\n",
       "    }\n",
       "\n",
       "    .dataframe thead tr th {\n",
       "        text-align: left;\n",
       "    }\n",
       "\n",
       "    .dataframe thead tr:last-of-type th {\n",
       "        text-align: right;\n",
       "    }\n",
       "</style>\n",
       "<table border=\"1\" class=\"dataframe\">\n",
       "  <thead>\n",
       "    <tr>\n",
       "      <th>Price</th>\n",
       "      <th>Close</th>\n",
       "      <th>High</th>\n",
       "      <th>Low</th>\n",
       "      <th>Open</th>\n",
       "      <th>Volume</th>\n",
       "    </tr>\n",
       "    <tr>\n",
       "      <th>Ticker</th>\n",
       "      <th>SPY</th>\n",
       "      <th>SPY</th>\n",
       "      <th>SPY</th>\n",
       "      <th>SPY</th>\n",
       "      <th>SPY</th>\n",
       "    </tr>\n",
       "    <tr>\n",
       "      <th>Date</th>\n",
       "      <th></th>\n",
       "      <th></th>\n",
       "      <th></th>\n",
       "      <th></th>\n",
       "      <th></th>\n",
       "    </tr>\n",
       "  </thead>\n",
       "  <tbody>\n",
       "    <tr>\n",
       "      <th>2020-06-02</th>\n",
       "      <td>286.446442</td>\n",
       "      <td>286.492948</td>\n",
       "      <td>283.675717</td>\n",
       "      <td>285.023880</td>\n",
       "      <td>74267200</td>\n",
       "    </tr>\n",
       "    <tr>\n",
       "      <th>2020-06-03</th>\n",
       "      <td>290.258484</td>\n",
       "      <td>291.225462</td>\n",
       "      <td>288.175787</td>\n",
       "      <td>288.454710</td>\n",
       "      <td>92567600</td>\n",
       "    </tr>\n",
       "    <tr>\n",
       "      <th>2020-06-04</th>\n",
       "      <td>289.496033</td>\n",
       "      <td>291.020884</td>\n",
       "      <td>287.376137</td>\n",
       "      <td>289.263588</td>\n",
       "      <td>75794400</td>\n",
       "    </tr>\n",
       "    <tr>\n",
       "      <th>2020-06-05</th>\n",
       "      <td>296.915649</td>\n",
       "      <td>298.710116</td>\n",
       "      <td>294.888738</td>\n",
       "      <td>294.953829</td>\n",
       "      <td>150524700</td>\n",
       "    </tr>\n",
       "    <tr>\n",
       "      <th>2020-06-08</th>\n",
       "      <td>300.504730</td>\n",
       "      <td>300.699976</td>\n",
       "      <td>297.185411</td>\n",
       "      <td>297.733977</td>\n",
       "      <td>73641200</td>\n",
       "    </tr>\n",
       "  </tbody>\n",
       "</table>\n",
       "</div>"
      ],
      "text/plain": [
       "Price            Close        High         Low        Open     Volume\n",
       "Ticker             SPY         SPY         SPY         SPY        SPY\n",
       "Date                                                                 \n",
       "2020-06-02  286.446442  286.492948  283.675717  285.023880   74267200\n",
       "2020-06-03  290.258484  291.225462  288.175787  288.454710   92567600\n",
       "2020-06-04  289.496033  291.020884  287.376137  289.263588   75794400\n",
       "2020-06-05  296.915649  298.710116  294.888738  294.953829  150524700\n",
       "2020-06-08  300.504730  300.699976  297.185411  297.733977   73641200"
      ]
     },
     "execution_count": 8,
     "metadata": {},
     "output_type": "execute_result"
    }
   ],
   "source": [
    "spy_data.head()"
   ]
  },
  {
   "cell_type": "code",
   "execution_count": null,
   "id": "aa7b24d8",
   "metadata": {},
   "outputs": [],
   "source": []
  }
 ],
 "metadata": {
  "kernelspec": {
   "display_name": "financial-investment",
   "language": "python",
   "name": "python3"
  },
  "language_info": {
   "codemirror_mode": {
    "name": "ipython",
    "version": 3
   },
   "file_extension": ".py",
   "mimetype": "text/x-python",
   "name": "python",
   "nbconvert_exporter": "python",
   "pygments_lexer": "ipython3",
   "version": "3.13.2"
  }
 },
 "nbformat": 4,
 "nbformat_minor": 5
}
